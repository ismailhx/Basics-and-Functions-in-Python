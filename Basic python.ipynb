{
 "cells": [
  {
   "cell_type": "code",
   "execution_count": 85,
   "id": "f0913076",
   "metadata": {},
   "outputs": [
    {
     "name": "stdout",
     "output_type": "stream",
     "text": [
      "[2, 1, 1]\n"
     ]
    }
   ],
   "source": [
    "#Task 1\n",
    "# Takes a Given list of numbers\n",
    "# Prints a sublist that has an equal sum to the original list.\n",
    "# It uses numbers only from the main list.\n",
    "# It is a continuous sequence of numbers and any sublist can be printed\n",
    "# If there is no sublist an empty list is printed\n",
    "\n",
    "\n",
    "the_list = [-6, 2, 1, 1, 5, 3, -2]\n",
    "sub_list = []\n",
    "target = sum(the_list)\n",
    "for a in range(len(the_list)):\n",
    "    for b in range(a+1,len(the_list)+1):\n",
    "        total = sum(the_list[a:b])\n",
    "        if the_list != the_list[a:b]:\n",
    "            if total == target:\n",
    "                print(the_list[a:b])\n",
    "            \n"
   ]
  },
  {
   "cell_type": "code",
   "execution_count": 97,
   "id": "05a777dc",
   "metadata": {},
   "outputs": [
    {
     "name": "stdout",
     "output_type": "stream",
     "text": [
      "True\n"
     ]
    }
   ],
   "source": [
    "#Task 2\n",
    "\n",
    "list = [3, 4, 19, 26]\n",
    "last_element = len(list)-1\n",
    "\n",
    "if sum(list) - list[last_element] == list[last_element]:\n",
    "    print (True)\n",
    "else: \n",
    "    print (False)"
   ]
  },
  {
   "cell_type": "code",
   "execution_count": 88,
   "id": "3494470f",
   "metadata": {},
   "outputs": [
    {
     "name": "stdout",
     "output_type": "stream",
     "text": [
      "{3: ['Red'], 4: ['Blue'], 5: ['Lilac', 'Green', 'Black'], 6: ['Yellow']}\n"
     ]
    }
   ],
   "source": [
    "#Task 3\n",
    "names = [\"Red\", \"Blue\", \"Lilac\", \"Green\", \"Black\", \"Yellow\"]\n",
    "dict = {}\n",
    "for name in names:\n",
    "        if len(name) in dict.keys() :\n",
    "            dict[len(name)].append(name)\n",
    "        else: \n",
    "            dict[len(name)] = []\n",
    "            dict[len(name)].append(name)\n",
    "print(dict)"
   ]
  },
  {
   "cell_type": "code",
   "execution_count": 93,
   "id": "01b00398",
   "metadata": {},
   "outputs": [
    {
     "name": "stdout",
     "output_type": "stream",
     "text": [
      "(10, 25)\n"
     ]
    }
   ],
   "source": [
    "#Task4\n",
    "\n",
    "def calculate_odd_even(number_list):\n",
    "    evens = []\n",
    "    odds = []\n",
    "    for element in number_list:\n",
    "        if element % 2 == 0:\n",
    "            evens.append(element)\n",
    "        else: \n",
    "            odds.append(element)\n",
    "    a = sum(evens) \n",
    "    b = sum(odds)\n",
    "    tuple = (a,b)\n",
    "    \n",
    "    print(tuple)\n",
    "    \n",
    "number_list = [4,99,-97,23,6]\n",
    "calculate_odd_even(number_list)\n",
    "\n"
   ]
  },
  {
   "cell_type": "code",
   "execution_count": null,
   "id": "4829bcc7",
   "metadata": {},
   "outputs": [],
   "source": []
  }
 ],
 "metadata": {
  "kernelspec": {
   "display_name": "Python 3 (ipykernel)",
   "language": "python",
   "name": "python3"
  },
  "language_info": {
   "codemirror_mode": {
    "name": "ipython",
    "version": 3
   },
   "file_extension": ".py",
   "mimetype": "text/x-python",
   "name": "python",
   "nbconvert_exporter": "python",
   "pygments_lexer": "ipython3",
   "version": "3.8.10"
  }
 },
 "nbformat": 4,
 "nbformat_minor": 5
}
