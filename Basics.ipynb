{
 "cells": [
  {
   "cell_type": "code",
   "execution_count": 59,
   "id": "ec085693",
   "metadata": {},
   "outputs": [
    {
     "data": {
      "text/plain": [
       "(6, 7)"
      ]
     },
     "execution_count": 59,
     "metadata": {},
     "output_type": "execute_result"
    }
   ],
   "source": [
    "coordinates = [(4,5),(6,7),(16,96)] \n",
    "coordinates[1]"
   ]
  },
  {
   "cell_type": "code",
   "execution_count": 15,
   "id": "57016857",
   "metadata": {},
   "outputs": [
    {
     "name": "stdout",
     "output_type": "stream",
     "text": [
      "giraffe\n"
     ]
    }
   ],
   "source": [
    "phrase = \"GIraffe\"\n",
    "print(phrase.lower()) \n"
   ]
  },
  {
   "cell_type": "code",
   "execution_count": null,
   "id": "eca99f7f",
   "metadata": {},
   "outputs": [],
   "source": []
  }
 ],
 "metadata": {
  "kernelspec": {
   "display_name": "Python 3 (ipykernel)",
   "language": "python",
   "name": "python3"
  },
  "language_info": {
   "codemirror_mode": {
    "name": "ipython",
    "version": 3
   },
   "file_extension": ".py",
   "mimetype": "text/x-python",
   "name": "python",
   "nbconvert_exporter": "python",
   "pygments_lexer": "ipython3",
   "version": "3.8.10"
  }
 },
 "nbformat": 4,
 "nbformat_minor": 5
}
